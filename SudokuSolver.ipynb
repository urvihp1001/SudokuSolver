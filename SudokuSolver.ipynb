{
  "nbformat": 4,
  "nbformat_minor": 0,
  "metadata": {
    "colab": {
      "provenance": [],
      "authorship_tag": "ABX9TyM/Vt88MIspHTAyxwpZv6Ki",
      "include_colab_link": true
    },
    "kernelspec": {
      "name": "python3",
      "display_name": "Python 3"
    },
    "language_info": {
      "name": "python"
    }
  },
  "cells": [
    {
      "cell_type": "markdown",
      "metadata": {
        "id": "view-in-github",
        "colab_type": "text"
      },
      "source": [
        "<a href=\"https://colab.research.google.com/github/urvihp1001/SudokuSolver/blob/main/SudokuSolver.ipynb\" target=\"_parent\"><img src=\"https://colab.research.google.com/assets/colab-badge.svg\" alt=\"Open In Colab\"/></a>"
      ]
    },
    {
      "cell_type": "code",
      "execution_count": null,
      "metadata": {
        "id": "YB7u2tVwnb7Y"
      },
      "outputs": [],
      "source": [
        "import numpy as num"
      ]
    },
    {
      "cell_type": "code",
      "source": [
        "grid = [[5,3,0,0,7,0,0,0,0],\n",
        "        [6,0,0,1,9,5,0,0,0],\n",
        "        [0,9,8,0,0,0,0,6,0],\n",
        "        [8,0,0,0,6,0,0,0,3],\n",
        "        [4,0,0,8,0,3,0,0,1],\n",
        "        [7,0,0,0,2,0,0,0,6],\n",
        "        [0,6,0,0,0,0,2,8,0],\n",
        "        [0,0,0,0,1,9,0,0,5],\n",
        "        [0,0,0,0,0,0,0,0,0]]\n",
        "#example\n",
        "print(num.matrix(grid))"
      ],
      "metadata": {
        "colab": {
          "base_uri": "https://localhost:8080/"
        },
        "id": "2anZn3renoP1",
        "outputId": "405a6af4-7d16-478a-f6f8-aec74cb9d845"
      },
      "execution_count": null,
      "outputs": [
        {
          "output_type": "stream",
          "name": "stdout",
          "text": [
            "[[5 3 0 0 7 0 0 0 0]\n",
            " [6 0 0 1 9 5 0 0 0]\n",
            " [0 9 8 0 0 0 0 6 0]\n",
            " [8 0 0 0 6 0 0 0 3]\n",
            " [4 0 0 8 0 3 0 0 1]\n",
            " [7 0 0 0 2 0 0 0 6]\n",
            " [0 6 0 0 0 0 2 8 0]\n",
            " [0 0 0 0 1 9 0 0 5]\n",
            " [0 0 0 0 0 0 0 0 0]]\n"
          ]
        }
      ]
    },
    {
      "cell_type": "code",
      "source": [
        "def possible(row,column, number):\n",
        "  global grid\n",
        "  #is number in given row?\n",
        "  for i in range(0,9):\n",
        "    if grid[row][i] == number:\n",
        "      return False#false means that ok the number exists here in row so cant be placed here\n",
        "    #example: checking for 4 in row=1 and number=4\n",
        "    #grid[1][0]==4- true\n",
        "    #grid[1][1]==4-true....\n",
        "    #true meaning where we can place\n",
        "  #is number in given column\n",
        "  for i in range(0,9):\n",
        "    if grid[i][column] == number:\n",
        "      return False\n",
        "      #if we say 8 in col2\n",
        "      #[0][2]=true\n",
        "      #[1][2]=true\n",
        "      #[2][2]=false\n",
        "  #is number in given square\n",
        "  x0=(column//3)*3\n",
        "  y0=(row//3)*3\n",
        "  for i in range(0,3):\n",
        "    for j in range(0,3): #3X3 box\n",
        "      if grid[y0+i][x0+j] == number:   #moves fwd within box\n",
        "        return False #if number is within those 9 possible locns\n",
        "  return True\n",
        "  #backtracking means if python finds that input of a number is wrong- it goes 1 step back\n",
        "  #and tries another number after scanning row and column\n",
        "def solve():\n",
        "  global grid\n",
        "  for row in range(0,9):\n",
        "    for column in range(0,9):\n",
        "      if grid[row][column] == 0:\n",
        "        for number in range(1,10):\n",
        "          if possible(row,column,number):\n",
        "            grid[row][column] = number #if it fits\n",
        "            solve()#continue to next field\n",
        "            grid[row][column] = 0 #if it gets stuck set prev field to 0 and resolve\n",
        "            #keep setting prev field to 0 and resolve if we get stuck at a point\n",
        "        return\n",
        "  print(num.matrix(grid))\n",
        "  input('More?') #output all possible solutions\n",
        "solve()"
      ],
      "metadata": {
        "colab": {
          "base_uri": "https://localhost:8080/"
        },
        "id": "1LKuG2hVoy32",
        "outputId": "d200c6bf-3171-4cd4-ee07-a105828ddf49"
      },
      "execution_count": null,
      "outputs": [
        {
          "name": "stdout",
          "output_type": "stream",
          "text": [
            "[[5 3 4 6 7 8 1 9 2]\n",
            " [6 7 2 1 9 5 3 4 8]\n",
            " [1 9 8 3 4 2 5 6 7]\n",
            " [8 5 9 7 6 1 4 2 3]\n",
            " [4 2 6 8 5 3 9 7 1]\n",
            " [7 1 3 9 2 4 8 5 6]\n",
            " [9 6 1 5 3 7 2 8 4]\n",
            " [2 8 7 4 1 9 6 3 5]\n",
            " [3 4 5 2 8 6 7 1 9]]\n",
            "More?\n",
            "[[5 3 4 6 7 8 9 1 2]\n",
            " [6 7 2 1 9 5 3 4 8]\n",
            " [1 9 8 3 4 2 5 6 7]\n",
            " [8 5 9 7 6 1 4 2 3]\n",
            " [4 2 6 8 5 3 7 9 1]\n",
            " [7 1 3 9 2 4 8 5 6]\n",
            " [9 6 1 5 3 7 2 8 4]\n",
            " [2 8 7 4 1 9 6 3 5]\n",
            " [3 4 5 2 8 6 1 7 9]]\n",
            "More?\n"
          ]
        }
      ]
    }
  ]
}